{
 "cells": [
  {
   "cell_type": "code",
   "execution_count": 1,
   "metadata": {},
   "outputs": [
    {
     "name": "stdout",
     "output_type": "stream",
     "text": [
      "   blue_1_summoner_level  blue_2_summoner_level  blue_3_summoner_level  \\\n",
      "0                    292                    360                    131   \n",
      "1                     76                     39                    151   \n",
      "2                    114                    116                    165   \n",
      "3                     46                    263                    151   \n",
      "4                    117                    155                    110   \n",
      "\n",
      "   blue_4_summoner_level  blue_5_summoner_level  blue_kurtosis_summonerlevel  \\\n",
      "0                     48                     77                    -2.343819   \n",
      "1                     76                     71                     3.036102   \n",
      "2                    114                     95                     3.403980   \n",
      "3                    136                    116                     1.822210   \n",
      "4                    310                     29                     2.200739   \n",
      "\n",
      "   blue_coefficient_of_skewness_summonerlevel  blue_mean_summonerlevel  \\\n",
      "0                                    0.542105                    181.6   \n",
      "1                                    1.396563                     82.6   \n",
      "2                                    1.595097                    120.8   \n",
      "3                                    0.723683                    142.4   \n",
      "4                                    1.118624                    144.2   \n",
      "\n",
      "   blue_variance_summonerlevel  blue_std_summonerlevel  ...  damage2.1  \\\n",
      "0                      18841.3              137.263615  ...      27419   \n",
      "1                       1700.3               41.234694  ...       2721   \n",
      "2                        683.7               26.147658  ...      12130   \n",
      "3                       6162.3               78.500318  ...      12385   \n",
      "4                      10696.7              103.424852  ...       7164   \n",
      "\n",
      "   damage3.1  damage4.1  damage5.1  assist1.1  assist2.1  assist3.1  \\\n",
      "0      21560      34522      12490         29         31         23   \n",
      "1       4974       3166       9720          0          0          0   \n",
      "2      18788      16505       6509          2          4          6   \n",
      "3      10962       9314       5811          2          3          2   \n",
      "4       5867       8956       2964          3          4          0   \n",
      "\n",
      "   assist4.1  assist5.1  blue_team_won?  \n",
      "0         31         28               0  \n",
      "1          0          1               1  \n",
      "2          7          6               0  \n",
      "3          3          4               1  \n",
      "4          0          7               0  \n",
      "\n",
      "[5 rows x 75 columns]\n",
      "   blue_1_summoner_level  blue_2_summoner_level  blue_3_summoner_level  \\\n",
      "0                    240                    391                    313   \n",
      "1                     48                    108                    250   \n",
      "2                    141                    219                    270   \n",
      "3                     51                    198                    202   \n",
      "4                    170                    390                    463   \n",
      "\n",
      "   blue_4_summoner_level  blue_5_summoner_level  blue_kurtosis_summonerlevel  \\\n",
      "0                    376                    178                    -1.734858   \n",
      "1                    124                    160                     1.072355   \n",
      "2                    107                    433                     0.772750   \n",
      "3                    288                    111                    -0.670434   \n",
      "4                    166                    121                    -2.489477   \n",
      "\n",
      "   blue_coefficient_of_skewness_summonerlevel  blue_mean_summonerlevel  \\\n",
      "0                                   -0.449569                    299.6   \n",
      "1                                    0.660845                    138.0   \n",
      "2                                    0.999209                    234.0   \n",
      "3                                   -0.105400                    170.0   \n",
      "4                                    0.661523                    262.0   \n",
      "\n",
      "   blue_variance_summonerlevel  blue_std_summonerlevel  ...  damage2.1  \\\n",
      "0                       8177.3               90.428425  ...      27586   \n",
      "1                       5556.0               74.538581  ...      24346   \n",
      "2                      16475.0              128.354977  ...      14068   \n",
      "3                       8343.5               91.342761  ...      18499   \n",
      "4                      23586.5              153.578970  ...       9471   \n",
      "\n",
      "   damage3.1  damage4.1  damage5.1  assist1.1  assist2.1  assist3.1  \\\n",
      "0      49062      54290      36000         14         11         10   \n",
      "1      37806      62985      14757         11         23         17   \n",
      "2      36763      15657      19130          6         11         11   \n",
      "3      41811      56791       7272         15         17         16   \n",
      "4      20140       9805       4295          4          3          2   \n",
      "\n",
      "   assist4.1  assist5.1  blue_team_won?  \n",
      "0          7         23               0  \n",
      "1          6         36               0  \n",
      "2          2          9               0  \n",
      "3         10         25               0  \n",
      "4          1          4               1  \n",
      "\n",
      "[5 rows x 75 columns]\n"
     ]
    },
    {
     "data": {
      "text/plain": [
       "blue_1_summoner_level    int64\n",
       "blue_2_summoner_level    int64\n",
       "blue_3_summoner_level    int64\n",
       "blue_4_summoner_level    int64\n",
       "blue_5_summoner_level    int64\n",
       "                         ...  \n",
       "assist2.1                int64\n",
       "assist3.1                int64\n",
       "assist4.1                int64\n",
       "assist5.1                int64\n",
       "blue_team_won?           int64\n",
       "Length: 75, dtype: object"
      ]
     },
     "execution_count": 1,
     "metadata": {},
     "output_type": "execute_result"
    }
   ],
   "source": [
    "import pandas as pd\n",
    "import numpy as np\n",
    "import pymongo\n",
    "import json\n",
    "from pandas import read_csv, read_excel\n",
    "import openpyxl\n",
    "\n",
    "temp_train=read_excel(\"data1excel_train.xls\")\n",
    "temp_test=read_excel(\"data2excel_test.xls\")\n",
    "temp_train.to_csv(\"data1excel_train.csv\")  \n",
    "temp_test.to_csv(\"data2excel_test.csv\")\n",
    "train_df=read_csv(\"data1excel_train.csv\")\n",
    "test_df=read_csv(\"data2excel_test.csv\")\n",
    "train_df=train_df.drop(columns=['Unnamed: 0.1','Unnamed: 0'])\n",
    "test_df=test_df.drop(columns=['Unnamed: 0','Unnamed: 0.1'])\n",
    "print(train_df.head())\n",
    "print(test_df.head())\n",
    "# train_df.select_dtypes((\"string\"))\n",
    "# test_df.select_dtypes((\"string\"))\n",
    "# train_df.astype(np.float32)\n",
    "# test_df.astype(np.float32)\n",
    "\n",
    "train_df.dtypes\n",
    "test_df.dtypes"
   ]
  },
  {
   "cell_type": "code",
   "execution_count": 2,
   "metadata": {},
   "outputs": [
    {
     "name": "stdout",
     "output_type": "stream",
     "text": [
      "x_train size:1910\n",
      "y_train size:1910\n",
      "x_test size: 1097\n",
      "y_test size: 1097\n"
     ]
    }
   ],
   "source": [
    "train_dataset=train_df.to_numpy()\n",
    "test_dataset=test_df.to_numpy()\n",
    "\n",
    "np.random.shuffle(train_dataset)\n",
    "np.random.shuffle(test_dataset)\n",
    "\n",
    "x_train= train_dataset[:,0:74]\n",
    "y_train=train_dataset[:,74]\n",
    "\n",
    "x_test=test_dataset[:,0:74]\n",
    "y_test=test_dataset[:,74]\n",
    "\n",
    "print(f\"x_train size:{len(x_train)}\")\n",
    "print(f\"y_train size:{len(y_train)}\")\n",
    "\n",
    "print(f\"x_test size: {len(x_test)}\")\n",
    "print(f\"y_test size: {len(y_test)}\")"
   ]
  },
  {
   "cell_type": "code",
   "execution_count": 11,
   "metadata": {},
   "outputs": [
    {
     "data": {
      "text/plain": [
       "((3007, 74), (3007,))"
      ]
     },
     "execution_count": 11,
     "metadata": {},
     "output_type": "execute_result"
    }
   ],
   "source": [
    "frames=[train_df,test_df]\n",
    "result=pd.concat(frames)\n",
    "dataset=result.to_numpy()\n",
    "np.random.shuffle(dataset)\n",
    "X = dataset[:,0:74]\n",
    "Y = dataset[:,74]\n",
    "X.shape, Y.shape"
   ]
  },
  {
   "cell_type": "code",
   "execution_count": 13,
   "metadata": {},
   "outputs": [],
   "source": [
    "from sklearn.ensemble import GradientBoostingClassifier\n",
    "\n",
    "model = GradientBoostingClassifier(n_estimators=55, learning_rate=0.14)"
   ]
  },
  {
   "cell_type": "code",
   "execution_count": 1,
   "metadata": {},
   "outputs": [
    {
     "ename": "KeyboardInterrupt",
     "evalue": "",
     "output_type": "error",
     "traceback": [
      "\u001b[1;31m---------------------------------------------------------------------------\u001b[0m",
      "\u001b[1;31mKeyboardInterrupt\u001b[0m                         Traceback (most recent call last)",
      "Cell \u001b[1;32mIn [1], line 4\u001b[0m\n\u001b[0;32m      2\u001b[0m \u001b[39mfrom\u001b[39;00m \u001b[39msklearn\u001b[39;00m\u001b[39m.\u001b[39;00m\u001b[39mmetrics\u001b[39;00m \u001b[39mimport\u001b[39;00m accuracy_score\n\u001b[0;32m      3\u001b[0m \u001b[39mfrom\u001b[39;00m \u001b[39mscipy\u001b[39;00m\u001b[39m.\u001b[39;00m\u001b[39mstats\u001b[39;00m \u001b[39mimport\u001b[39;00m sem\n\u001b[1;32m----> 4\u001b[0m \u001b[39mimport\u001b[39;00m \u001b[39mtensorflow\u001b[39;00m \u001b[39mas\u001b[39;00m \u001b[39mtf\u001b[39;00m\n\u001b[0;32m      6\u001b[0m accuracy \u001b[39m=\u001b[39m []\n\u001b[0;32m      8\u001b[0m \u001b[39m# Create StratifiedKFold object.\u001b[39;00m\n",
      "File \u001b[1;32mc:\\Users\\Kartikey\\AppData\\Local\\Programs\\Python\\Python310\\lib\\site-packages\\tensorflow\\__init__.py:37\u001b[0m\n\u001b[0;32m     34\u001b[0m \u001b[39mimport\u001b[39;00m \u001b[39msys\u001b[39;00m \u001b[39mas\u001b[39;00m \u001b[39m_sys\u001b[39;00m\n\u001b[0;32m     35\u001b[0m \u001b[39mimport\u001b[39;00m \u001b[39mtyping\u001b[39;00m \u001b[39mas\u001b[39;00m \u001b[39m_typing\u001b[39;00m\n\u001b[1;32m---> 37\u001b[0m \u001b[39mfrom\u001b[39;00m \u001b[39mtensorflow\u001b[39;00m\u001b[39m.\u001b[39;00m\u001b[39mpython\u001b[39;00m\u001b[39m.\u001b[39;00m\u001b[39mtools\u001b[39;00m \u001b[39mimport\u001b[39;00m module_util \u001b[39mas\u001b[39;00m _module_util\n\u001b[0;32m     38\u001b[0m \u001b[39mfrom\u001b[39;00m \u001b[39mtensorflow\u001b[39;00m\u001b[39m.\u001b[39;00m\u001b[39mpython\u001b[39;00m\u001b[39m.\u001b[39;00m\u001b[39mutil\u001b[39;00m\u001b[39m.\u001b[39;00m\u001b[39mlazy_loader\u001b[39;00m \u001b[39mimport\u001b[39;00m LazyLoader \u001b[39mas\u001b[39;00m _LazyLoader\n\u001b[0;32m     40\u001b[0m \u001b[39m# Make sure code inside the TensorFlow codebase can use tf2.enabled() at import.\u001b[39;00m\n",
      "File \u001b[1;32mc:\\Users\\Kartikey\\AppData\\Local\\Programs\\Python\\Python310\\lib\\site-packages\\tensorflow\\python\\__init__.py:42\u001b[0m\n\u001b[0;32m     37\u001b[0m \u001b[39mfrom\u001b[39;00m \u001b[39mtensorflow\u001b[39;00m\u001b[39m.\u001b[39;00m\u001b[39mpython\u001b[39;00m\u001b[39m.\u001b[39;00m\u001b[39meager\u001b[39;00m \u001b[39mimport\u001b[39;00m context\n\u001b[0;32m     39\u001b[0m \u001b[39m# pylint: enable=wildcard-import\u001b[39;00m\n\u001b[0;32m     40\u001b[0m \n\u001b[0;32m     41\u001b[0m \u001b[39m# Bring in subpackages.\u001b[39;00m\n\u001b[1;32m---> 42\u001b[0m \u001b[39mfrom\u001b[39;00m \u001b[39mtensorflow\u001b[39;00m\u001b[39m.\u001b[39;00m\u001b[39mpython\u001b[39;00m \u001b[39mimport\u001b[39;00m data\n\u001b[0;32m     43\u001b[0m \u001b[39mfrom\u001b[39;00m \u001b[39mtensorflow\u001b[39;00m\u001b[39m.\u001b[39;00m\u001b[39mpython\u001b[39;00m \u001b[39mimport\u001b[39;00m distribute\n\u001b[0;32m     44\u001b[0m \u001b[39m# from tensorflow.python import keras\u001b[39;00m\n",
      "File \u001b[1;32mc:\\Users\\Kartikey\\AppData\\Local\\Programs\\Python\\Python310\\lib\\site-packages\\tensorflow\\python\\data\\__init__.py:21\u001b[0m\n\u001b[0;32m     15\u001b[0m \u001b[39m\"\"\"`tf.data.Dataset` API for input pipelines.\u001b[39;00m\n\u001b[0;32m     16\u001b[0m \n\u001b[0;32m     17\u001b[0m \u001b[39mSee [Importing Data](https://tensorflow.org/guide/data) for an overview.\u001b[39;00m\n\u001b[0;32m     18\u001b[0m \u001b[39m\"\"\"\u001b[39;00m\n\u001b[0;32m     20\u001b[0m \u001b[39m# pylint: disable=unused-import\u001b[39;00m\n\u001b[1;32m---> 21\u001b[0m \u001b[39mfrom\u001b[39;00m \u001b[39mtensorflow\u001b[39;00m\u001b[39m.\u001b[39;00m\u001b[39mpython\u001b[39;00m\u001b[39m.\u001b[39;00m\u001b[39mdata\u001b[39;00m \u001b[39mimport\u001b[39;00m experimental\n\u001b[0;32m     22\u001b[0m \u001b[39mfrom\u001b[39;00m \u001b[39mtensorflow\u001b[39;00m\u001b[39m.\u001b[39;00m\u001b[39mpython\u001b[39;00m\u001b[39m.\u001b[39;00m\u001b[39mdata\u001b[39;00m\u001b[39m.\u001b[39;00m\u001b[39mops\u001b[39;00m\u001b[39m.\u001b[39;00m\u001b[39mdataset_ops\u001b[39;00m \u001b[39mimport\u001b[39;00m AUTOTUNE\n\u001b[0;32m     23\u001b[0m \u001b[39mfrom\u001b[39;00m \u001b[39mtensorflow\u001b[39;00m\u001b[39m.\u001b[39;00m\u001b[39mpython\u001b[39;00m\u001b[39m.\u001b[39;00m\u001b[39mdata\u001b[39;00m\u001b[39m.\u001b[39;00m\u001b[39mops\u001b[39;00m\u001b[39m.\u001b[39;00m\u001b[39mdataset_ops\u001b[39;00m \u001b[39mimport\u001b[39;00m Dataset\n",
      "File \u001b[1;32mc:\\Users\\Kartikey\\AppData\\Local\\Programs\\Python\\Python310\\lib\\site-packages\\tensorflow\\python\\data\\experimental\\__init__.py:95\u001b[0m\n\u001b[0;32m     15\u001b[0m \u001b[39m\"\"\"Experimental API for building input pipelines.\u001b[39;00m\n\u001b[0;32m     16\u001b[0m \n\u001b[0;32m     17\u001b[0m \u001b[39mThis module contains experimental `Dataset` sources and transformations that can\u001b[39;00m\n\u001b[1;32m   (...)\u001b[0m\n\u001b[0;32m     91\u001b[0m \u001b[39m@@UNKNOWN_CARDINALITY\u001b[39;00m\n\u001b[0;32m     92\u001b[0m \u001b[39m\"\"\"\u001b[39;00m\n\u001b[0;32m     94\u001b[0m \u001b[39m# pylint: disable=unused-import\u001b[39;00m\n\u001b[1;32m---> 95\u001b[0m \u001b[39mfrom\u001b[39;00m \u001b[39mtensorflow\u001b[39;00m\u001b[39m.\u001b[39;00m\u001b[39mpython\u001b[39;00m\u001b[39m.\u001b[39;00m\u001b[39mdata\u001b[39;00m\u001b[39m.\u001b[39;00m\u001b[39mexperimental\u001b[39;00m \u001b[39mimport\u001b[39;00m service\n\u001b[0;32m     96\u001b[0m \u001b[39mfrom\u001b[39;00m \u001b[39mtensorflow\u001b[39;00m\u001b[39m.\u001b[39;00m\u001b[39mpython\u001b[39;00m\u001b[39m.\u001b[39;00m\u001b[39mdata\u001b[39;00m\u001b[39m.\u001b[39;00m\u001b[39mexperimental\u001b[39;00m\u001b[39m.\u001b[39;00m\u001b[39mops\u001b[39;00m\u001b[39m.\u001b[39;00m\u001b[39mbatching\u001b[39;00m \u001b[39mimport\u001b[39;00m dense_to_ragged_batch\n\u001b[0;32m     97\u001b[0m \u001b[39mfrom\u001b[39;00m \u001b[39mtensorflow\u001b[39;00m\u001b[39m.\u001b[39;00m\u001b[39mpython\u001b[39;00m\u001b[39m.\u001b[39;00m\u001b[39mdata\u001b[39;00m\u001b[39m.\u001b[39;00m\u001b[39mexperimental\u001b[39;00m\u001b[39m.\u001b[39;00m\u001b[39mops\u001b[39;00m\u001b[39m.\u001b[39;00m\u001b[39mbatching\u001b[39;00m \u001b[39mimport\u001b[39;00m dense_to_sparse_batch\n",
      "File \u001b[1;32mc:\\Users\\Kartikey\\AppData\\Local\\Programs\\Python\\Python310\\lib\\site-packages\\tensorflow\\python\\data\\experimental\\service\\__init__.py:387\u001b[0m\n\u001b[0;32m      1\u001b[0m \u001b[39m# Copyright 2020 The TensorFlow Authors. All Rights Reserved.\u001b[39;00m\n\u001b[0;32m      2\u001b[0m \u001b[39m#\u001b[39;00m\n\u001b[0;32m      3\u001b[0m \u001b[39m# Licensed under the Apache License, Version 2.0 (the \"License\");\u001b[39;00m\n\u001b[1;32m   (...)\u001b[0m\n\u001b[0;32m     13\u001b[0m \u001b[39m# limitations under the License.\u001b[39;00m\n\u001b[0;32m     14\u001b[0m \u001b[39m# ==============================================================================\u001b[39;00m\n\u001b[0;32m     15\u001b[0m \u001b[39m\"\"\"API for using the tf.data service.\u001b[39;00m\n\u001b[0;32m     16\u001b[0m \n\u001b[0;32m     17\u001b[0m \u001b[39mThis module contains:\u001b[39;00m\n\u001b[1;32m   (...)\u001b[0m\n\u001b[0;32m    384\u001b[0m \u001b[39m  job of ParameterServerStrategy).\u001b[39;00m\n\u001b[0;32m    385\u001b[0m \u001b[39m\"\"\"\u001b[39;00m\n\u001b[1;32m--> 387\u001b[0m \u001b[39mfrom\u001b[39;00m \u001b[39mtensorflow\u001b[39;00m\u001b[39m.\u001b[39;00m\u001b[39mpython\u001b[39;00m\u001b[39m.\u001b[39;00m\u001b[39mdata\u001b[39;00m\u001b[39m.\u001b[39;00m\u001b[39mexperimental\u001b[39;00m\u001b[39m.\u001b[39;00m\u001b[39mops\u001b[39;00m\u001b[39m.\u001b[39;00m\u001b[39mdata_service_ops\u001b[39;00m \u001b[39mimport\u001b[39;00m distribute\n\u001b[0;32m    388\u001b[0m \u001b[39mfrom\u001b[39;00m \u001b[39mtensorflow\u001b[39;00m\u001b[39m.\u001b[39;00m\u001b[39mpython\u001b[39;00m\u001b[39m.\u001b[39;00m\u001b[39mdata\u001b[39;00m\u001b[39m.\u001b[39;00m\u001b[39mexperimental\u001b[39;00m\u001b[39m.\u001b[39;00m\u001b[39mops\u001b[39;00m\u001b[39m.\u001b[39;00m\u001b[39mdata_service_ops\u001b[39;00m \u001b[39mimport\u001b[39;00m from_dataset_id\n\u001b[0;32m    389\u001b[0m \u001b[39mfrom\u001b[39;00m \u001b[39mtensorflow\u001b[39;00m\u001b[39m.\u001b[39;00m\u001b[39mpython\u001b[39;00m\u001b[39m.\u001b[39;00m\u001b[39mdata\u001b[39;00m\u001b[39m.\u001b[39;00m\u001b[39mexperimental\u001b[39;00m\u001b[39m.\u001b[39;00m\u001b[39mops\u001b[39;00m\u001b[39m.\u001b[39;00m\u001b[39mdata_service_ops\u001b[39;00m \u001b[39mimport\u001b[39;00m register_dataset\n",
      "File \u001b[1;32mc:\\Users\\Kartikey\\AppData\\Local\\Programs\\Python\\Python310\\lib\\site-packages\\tensorflow\\python\\data\\experimental\\ops\\data_service_ops.py:25\u001b[0m\n\u001b[0;32m     23\u001b[0m \u001b[39mfrom\u001b[39;00m \u001b[39mtensorflow\u001b[39;00m\u001b[39m.\u001b[39;00m\u001b[39mpython\u001b[39;00m\u001b[39m.\u001b[39;00m\u001b[39mdata\u001b[39;00m\u001b[39m.\u001b[39;00m\u001b[39mexperimental\u001b[39;00m\u001b[39m.\u001b[39;00m\u001b[39mservice\u001b[39;00m \u001b[39mimport\u001b[39;00m _pywrap_server_lib\n\u001b[0;32m     24\u001b[0m \u001b[39mfrom\u001b[39;00m \u001b[39mtensorflow\u001b[39;00m\u001b[39m.\u001b[39;00m\u001b[39mpython\u001b[39;00m\u001b[39m.\u001b[39;00m\u001b[39mdata\u001b[39;00m\u001b[39m.\u001b[39;00m\u001b[39mexperimental\u001b[39;00m\u001b[39m.\u001b[39;00m\u001b[39mservice\u001b[39;00m \u001b[39mimport\u001b[39;00m _pywrap_utils\n\u001b[1;32m---> 25\u001b[0m \u001b[39mfrom\u001b[39;00m \u001b[39mtensorflow\u001b[39;00m\u001b[39m.\u001b[39;00m\u001b[39mpython\u001b[39;00m\u001b[39m.\u001b[39;00m\u001b[39mdata\u001b[39;00m\u001b[39m.\u001b[39;00m\u001b[39mops\u001b[39;00m \u001b[39mimport\u001b[39;00m dataset_ops\n\u001b[0;32m     26\u001b[0m \u001b[39mfrom\u001b[39;00m \u001b[39mtensorflow\u001b[39;00m\u001b[39m.\u001b[39;00m\u001b[39mpython\u001b[39;00m\u001b[39m.\u001b[39;00m\u001b[39mdata\u001b[39;00m\u001b[39m.\u001b[39;00m\u001b[39mops\u001b[39;00m \u001b[39mimport\u001b[39;00m options \u001b[39mas\u001b[39;00m options_lib\n\u001b[0;32m     27\u001b[0m \u001b[39mfrom\u001b[39;00m \u001b[39mtensorflow\u001b[39;00m\u001b[39m.\u001b[39;00m\u001b[39mpython\u001b[39;00m\u001b[39m.\u001b[39;00m\u001b[39mdata\u001b[39;00m\u001b[39m.\u001b[39;00m\u001b[39mops\u001b[39;00m \u001b[39mimport\u001b[39;00m structured_function\n",
      "File \u001b[1;32mc:\\Users\\Kartikey\\AppData\\Local\\Programs\\Python\\Python310\\lib\\site-packages\\tensorflow\\python\\data\\ops\\dataset_ops.py:31\u001b[0m\n\u001b[0;32m     29\u001b[0m \u001b[39mfrom\u001b[39;00m \u001b[39mtensorflow\u001b[39;00m\u001b[39m.\u001b[39;00m\u001b[39mcore\u001b[39;00m\u001b[39m.\u001b[39;00m\u001b[39mframework\u001b[39;00m \u001b[39mimport\u001b[39;00m graph_pb2\n\u001b[0;32m     30\u001b[0m \u001b[39mfrom\u001b[39;00m \u001b[39mtensorflow\u001b[39;00m\u001b[39m.\u001b[39;00m\u001b[39mpython\u001b[39;00m \u001b[39mimport\u001b[39;00m tf2\n\u001b[1;32m---> 31\u001b[0m \u001b[39mfrom\u001b[39;00m \u001b[39mtensorflow\u001b[39;00m\u001b[39m.\u001b[39;00m\u001b[39mpython\u001b[39;00m\u001b[39m.\u001b[39;00m\u001b[39mdata\u001b[39;00m\u001b[39m.\u001b[39;00m\u001b[39mops\u001b[39;00m \u001b[39mimport\u001b[39;00m iterator_ops\n\u001b[0;32m     32\u001b[0m \u001b[39mfrom\u001b[39;00m \u001b[39mtensorflow\u001b[39;00m\u001b[39m.\u001b[39;00m\u001b[39mpython\u001b[39;00m\u001b[39m.\u001b[39;00m\u001b[39mdata\u001b[39;00m\u001b[39m.\u001b[39;00m\u001b[39mops\u001b[39;00m \u001b[39mimport\u001b[39;00m options \u001b[39mas\u001b[39;00m options_lib\n\u001b[0;32m     33\u001b[0m \u001b[39mfrom\u001b[39;00m \u001b[39mtensorflow\u001b[39;00m\u001b[39m.\u001b[39;00m\u001b[39mpython\u001b[39;00m\u001b[39m.\u001b[39;00m\u001b[39mdata\u001b[39;00m\u001b[39m.\u001b[39;00m\u001b[39mops\u001b[39;00m \u001b[39mimport\u001b[39;00m structured_function\n",
      "File \u001b[1;32mc:\\Users\\Kartikey\\AppData\\Local\\Programs\\Python\\Python310\\lib\\site-packages\\tensorflow\\python\\data\\ops\\iterator_ops.py:35\u001b[0m\n\u001b[0;32m     33\u001b[0m \u001b[39mfrom\u001b[39;00m \u001b[39mtensorflow\u001b[39;00m\u001b[39m.\u001b[39;00m\u001b[39mpython\u001b[39;00m\u001b[39m.\u001b[39;00m\u001b[39mframework\u001b[39;00m \u001b[39mimport\u001b[39;00m type_spec\n\u001b[0;32m     34\u001b[0m \u001b[39mfrom\u001b[39;00m \u001b[39mtensorflow\u001b[39;00m\u001b[39m.\u001b[39;00m\u001b[39mpython\u001b[39;00m\u001b[39m.\u001b[39;00m\u001b[39mops\u001b[39;00m \u001b[39mimport\u001b[39;00m gen_dataset_ops\n\u001b[1;32m---> 35\u001b[0m \u001b[39mfrom\u001b[39;00m \u001b[39mtensorflow\u001b[39;00m\u001b[39m.\u001b[39;00m\u001b[39mpython\u001b[39;00m\u001b[39m.\u001b[39;00m\u001b[39mtraining\u001b[39;00m\u001b[39m.\u001b[39;00m\u001b[39msaver\u001b[39;00m \u001b[39mimport\u001b[39;00m BaseSaverBuilder\n\u001b[0;32m     36\u001b[0m \u001b[39mfrom\u001b[39;00m \u001b[39mtensorflow\u001b[39;00m\u001b[39m.\u001b[39;00m\u001b[39mpython\u001b[39;00m\u001b[39m.\u001b[39;00m\u001b[39mtraining\u001b[39;00m\u001b[39m.\u001b[39;00m\u001b[39mtracking\u001b[39;00m \u001b[39mimport\u001b[39;00m base \u001b[39mas\u001b[39;00m trackable\n\u001b[0;32m     37\u001b[0m \u001b[39mfrom\u001b[39;00m \u001b[39mtensorflow\u001b[39;00m\u001b[39m.\u001b[39;00m\u001b[39mpython\u001b[39;00m\u001b[39m.\u001b[39;00m\u001b[39mutil\u001b[39;00m \u001b[39mimport\u001b[39;00m _pywrap_utils\n",
      "File \u001b[1;32mc:\\Users\\Kartikey\\AppData\\Local\\Programs\\Python\\Python310\\lib\\site-packages\\tensorflow\\python\\training\\saver.py:37\u001b[0m\n\u001b[0;32m     35\u001b[0m \u001b[39mfrom\u001b[39;00m \u001b[39mtensorflow\u001b[39;00m\u001b[39m.\u001b[39;00m\u001b[39mpython\u001b[39;00m\u001b[39m.\u001b[39;00m\u001b[39mframework\u001b[39;00m \u001b[39mimport\u001b[39;00m device \u001b[39mas\u001b[39;00m pydev\n\u001b[0;32m     36\u001b[0m \u001b[39mfrom\u001b[39;00m \u001b[39mtensorflow\u001b[39;00m\u001b[39m.\u001b[39;00m\u001b[39mpython\u001b[39;00m\u001b[39m.\u001b[39;00m\u001b[39mframework\u001b[39;00m \u001b[39mimport\u001b[39;00m errors\n\u001b[1;32m---> 37\u001b[0m \u001b[39mfrom\u001b[39;00m \u001b[39mtensorflow\u001b[39;00m\u001b[39m.\u001b[39;00m\u001b[39mpython\u001b[39;00m\u001b[39m.\u001b[39;00m\u001b[39mframework\u001b[39;00m \u001b[39mimport\u001b[39;00m meta_graph\n\u001b[0;32m     38\u001b[0m \u001b[39mfrom\u001b[39;00m \u001b[39mtensorflow\u001b[39;00m\u001b[39m.\u001b[39;00m\u001b[39mpython\u001b[39;00m\u001b[39m.\u001b[39;00m\u001b[39mframework\u001b[39;00m \u001b[39mimport\u001b[39;00m ops\n\u001b[0;32m     39\u001b[0m \u001b[39mfrom\u001b[39;00m \u001b[39mtensorflow\u001b[39;00m\u001b[39m.\u001b[39;00m\u001b[39mpython\u001b[39;00m\u001b[39m.\u001b[39;00m\u001b[39mops\u001b[39;00m \u001b[39mimport\u001b[39;00m array_ops\n",
      "File \u001b[1;32m<frozen importlib._bootstrap>:1027\u001b[0m, in \u001b[0;36m_find_and_load\u001b[1;34m(name, import_)\u001b[0m\n",
      "File \u001b[1;32m<frozen importlib._bootstrap>:1002\u001b[0m, in \u001b[0;36m_find_and_load_unlocked\u001b[1;34m(name, import_)\u001b[0m\n",
      "File \u001b[1;32m<frozen importlib._bootstrap>:945\u001b[0m, in \u001b[0;36m_find_spec\u001b[1;34m(name, path, target)\u001b[0m\n",
      "File \u001b[1;32m<frozen importlib._bootstrap_external>:1439\u001b[0m, in \u001b[0;36mfind_spec\u001b[1;34m(cls, fullname, path, target)\u001b[0m\n",
      "File \u001b[1;32m<frozen importlib._bootstrap_external>:1411\u001b[0m, in \u001b[0;36m_get_spec\u001b[1;34m(cls, fullname, path, target)\u001b[0m\n",
      "File \u001b[1;32m<frozen importlib._bootstrap_external>:1544\u001b[0m, in \u001b[0;36mfind_spec\u001b[1;34m(self, fullname, target)\u001b[0m\n",
      "File \u001b[1;32m<frozen importlib._bootstrap_external>:147\u001b[0m, in \u001b[0;36m_path_stat\u001b[1;34m(path)\u001b[0m\n",
      "\u001b[1;31mKeyboardInterrupt\u001b[0m: "
     ]
    }
   ],
   "source": [
    "from sklearn.model_selection import StratifiedKFold\n",
    "from sklearn.metrics import accuracy_score\n",
    "from scipy.stats import sem\n",
    "\n",
    "\n",
    "accuracy = []\n",
    "\n",
    "# Create StratifiedKFold object.\n",
    "skf = StratifiedKFold(n_splits=10, random_state=None)\n",
    "\n",
    "for train_index, test_index in skf.split(X, Y):\n",
    "    x_train_fold, x_test_fold = X[train_index], X[test_index]\n",
    "    y_train_fold, y_test_fold = Y[train_index], Y[test_index]\n",
    "\n",
    "    model.fit(x_train_fold, y_train_fold)\n",
    "    prediction = model.predict(x_test_fold)\n",
    "    score = accuracy_score(prediction, y_test_fold)\n",
    "    accuracy.append(score * 100)\n",
    "\n",
    "\n",
    "# Print the output.\n",
    "print(\"List of possible accuracy: {}\".format(accuracy))\n",
    "print(\"\\nMaximum Accuracy: {:.2f}%\".format(max(accuracy)))\n",
    "print(\"\\nMinimum Accuracy: {:.2f}%\".format(min(accuracy)))\n",
    "print(\"\\nOverall Accuracy: {:.2f}%\".format(np.mean(accuracy)))\n",
    "print(\"\\nStandard Deviation is: {:.2f}%\".format(np.std(accuracy)))\n",
    "print(\"\\nStandard Error is: {:.2f}%\".format(sem(accuracy)))"
   ]
  },
  {
   "cell_type": "code",
   "execution_count": 16,
   "metadata": {},
   "outputs": [
    {
     "name": "stdout",
     "output_type": "stream",
     "text": [
      "x_train size: 1910\n",
      "y_train size: 1910\n",
      "x_test size: 1097\n",
      "y_test size: 1097\n",
      "Accuracy: 90.88%\n",
      "Confusion Matrix:\n",
      "[[489  50]\n",
      " [ 50 508]]\n",
      "Classification Report:\n",
      "              precision    recall  f1-score   support\n",
      "\n",
      "         0.0       0.91      0.91      0.91       539\n",
      "         1.0       0.91      0.91      0.91       558\n",
      "\n",
      "    accuracy                           0.91      1097\n",
      "   macro avg       0.91      0.91      0.91      1097\n",
      "weighted avg       0.91      0.91      0.91      1097\n",
      "\n"
     ]
    }
   ],
   "source": [
    "from sklearn.metrics import confusion_matrix, classification_report\n",
    "\n",
    "train_dataset = train_df.to_numpy()\n",
    "test_dataset = test_df.to_numpy()\n",
    "\n",
    "np.random.shuffle(train_dataset)\n",
    "np.random.shuffle(test_dataset)\n",
    "\n",
    "x_train = train_dataset[:, 0:74]\n",
    "y_train = train_dataset[:, 74]\n",
    "\n",
    "x_test = test_dataset[:, 0:74]\n",
    "y_test = test_dataset[:, 74]\n",
    "\n",
    "\n",
    "print(f\"x_train size: {len(x_train)}\")\n",
    "print(f\"y_train size: {len(y_train)}\")\n",
    "\n",
    "\n",
    "print(f\"x_test size: {len(x_test)}\")\n",
    "print(f\"y_test size: {len(y_test)}\")\n",
    "\n",
    "model_final_test = GradientBoostingClassifier(n_estimators=55, learning_rate=0.14)\n",
    "model_final_test.fit(x_train, y_train)\n",
    "\n",
    "print(\"Accuracy: {:.2f}%\".format(model_final_test.score(x_test, y_test) * 100))\n",
    "\n",
    "predictions = model_final_test.predict(x_test)\n",
    "\n",
    "print(\"Confusion Matrix:\")\n",
    "print(confusion_matrix(y_test, predictions))\n",
    "\n",
    "print(\"Classification Report:\")\n",
    "print(classification_report(y_test, predictions))"
   ]
  },
  {
   "cell_type": "code",
   "execution_count": 18,
   "metadata": {},
   "outputs": [
    {
     "data": {
      "text/plain": [
       "['Amelia_90_percent.sav']"
      ]
     },
     "execution_count": 18,
     "metadata": {},
     "output_type": "execute_result"
    }
   ],
   "source": [
    "import joblib\n",
    "\n",
    "model_final = GradientBoostingClassifier(n_estimators=55, learning_rate=0.14)\n",
    "model_final.fit(X, Y)\n",
    "\n",
    "# save the model to disk\n",
    "filename = \"Amelia_90_percent.sav\"\n",
    "joblib.dump(model_final, filename)"
   ]
  },
  {
   "cell_type": "code",
   "execution_count": 9,
   "metadata": {},
   "outputs": [
    {
     "name": "stdout",
     "output_type": "stream",
     "text": [
      "x_train size: 1910\n",
      "y_train size: 1910\n",
      "x_test size: 1097\n",
      "y_test size: 1097\n",
      "196.0\n",
      "0.0\n"
     ]
    }
   ],
   "source": [
    "train_dataset = train_df.to_numpy()\n",
    "test_dataset = test_df.to_numpy()\n",
    "\n",
    "np.random.shuffle(train_dataset)\n",
    "np.random.shuffle(test_dataset)\n",
    "\n",
    "x_train = train_dataset[:, 0:74]\n",
    "y_train = train_dataset[:, 74]\n",
    "\n",
    "x_test = test_dataset[:, 0:74]\n",
    "y_test = test_dataset[:, 74]\n",
    "\n",
    "\n",
    "print(f\"x_train size: {len(x_train)}\")\n",
    "print(f\"y_train size: {len(y_train)}\")\n",
    "\n",
    "\n",
    "print(f\"x_test size: {len(x_test)}\")\n",
    "print(f\"y_test size: {len(y_test)}\")\n",
    "print(x_train[1][3])\n",
    "print(y_train[5])"
   ]
  },
  {
   "cell_type": "code",
   "execution_count": 10,
   "metadata": {},
   "outputs": [
    {
     "name": "stdout",
     "output_type": "stream",
     "text": [
      "Epoch 1/50\n",
      "13/13 [==============================] - 5s 70ms/step - loss: 0.5394 - accuracy: 0.7445 - val_loss: 1.7622 - val_accuracy: 0.5752\n",
      "Epoch 2/50\n",
      "13/13 [==============================] - 0s 18ms/step - loss: 0.3288 - accuracy: 0.8623 - val_loss: 1.0087 - val_accuracy: 0.6718\n",
      "Epoch 3/50\n",
      "13/13 [==============================] - 0s 18ms/step - loss: 0.2591 - accuracy: 0.8921 - val_loss: 0.6115 - val_accuracy: 0.7639\n",
      "Epoch 4/50\n",
      "13/13 [==============================] - 0s 18ms/step - loss: 0.2359 - accuracy: 0.8995 - val_loss: 0.4247 - val_accuracy: 0.8314\n",
      "Epoch 5/50\n",
      "13/13 [==============================] - 0s 21ms/step - loss: 0.2260 - accuracy: 0.9052 - val_loss: 0.3802 - val_accuracy: 0.8323\n",
      "Epoch 6/50\n",
      "13/13 [==============================] - 0s 22ms/step - loss: 0.2132 - accuracy: 0.9136 - val_loss: 0.2678 - val_accuracy: 0.8778\n",
      "Epoch 7/50\n",
      "13/13 [==============================] - 0s 20ms/step - loss: 0.1961 - accuracy: 0.9204 - val_loss: 0.2868 - val_accuracy: 0.8687\n",
      "Epoch 8/50\n",
      "13/13 [==============================] - 0s 19ms/step - loss: 0.1786 - accuracy: 0.9241 - val_loss: 0.2402 - val_accuracy: 0.8861\n",
      "Epoch 9/50\n",
      "13/13 [==============================] - 0s 19ms/step - loss: 0.1579 - accuracy: 0.9403 - val_loss: 0.2605 - val_accuracy: 0.8751\n",
      "Epoch 10/50\n",
      "13/13 [==============================] - 0s 31ms/step - loss: 0.1491 - accuracy: 0.9429 - val_loss: 0.2640 - val_accuracy: 0.8833\n",
      "Epoch 11/50\n",
      "13/13 [==============================] - 0s 20ms/step - loss: 0.1337 - accuracy: 0.9513 - val_loss: 0.2503 - val_accuracy: 0.8952\n",
      "Epoch 12/50\n",
      "13/13 [==============================] - 0s 22ms/step - loss: 0.1171 - accuracy: 0.9592 - val_loss: 0.2501 - val_accuracy: 0.8915\n",
      "Epoch 13/50\n",
      "13/13 [==============================] - 0s 21ms/step - loss: 0.1149 - accuracy: 0.9597 - val_loss: 0.2518 - val_accuracy: 0.8943\n",
      "Epoch 14/50\n",
      "13/13 [==============================] - 0s 22ms/step - loss: 0.1177 - accuracy: 0.9586 - val_loss: 0.2576 - val_accuracy: 0.8943\n",
      "Epoch 15/50\n",
      "13/13 [==============================] - 0s 22ms/step - loss: 0.0959 - accuracy: 0.9665 - val_loss: 0.2537 - val_accuracy: 0.8988\n",
      "Epoch 16/50\n",
      "13/13 [==============================] - 0s 23ms/step - loss: 0.0932 - accuracy: 0.9691 - val_loss: 0.2623 - val_accuracy: 0.8988\n",
      "Epoch 17/50\n",
      "13/13 [==============================] - 0s 23ms/step - loss: 0.0799 - accuracy: 0.9733 - val_loss: 0.2707 - val_accuracy: 0.8979\n",
      "Epoch 18/50\n",
      "13/13 [==============================] - 0s 22ms/step - loss: 0.0778 - accuracy: 0.9728 - val_loss: 0.2803 - val_accuracy: 0.9034\n",
      "Epoch 19/50\n",
      "13/13 [==============================] - 0s 31ms/step - loss: 0.0721 - accuracy: 0.9780 - val_loss: 0.2933 - val_accuracy: 0.9107\n",
      "Epoch 20/50\n",
      "13/13 [==============================] - 0s 19ms/step - loss: 0.0725 - accuracy: 0.9806 - val_loss: 0.2890 - val_accuracy: 0.8979\n",
      "Epoch 21/50\n",
      "13/13 [==============================] - 0s 23ms/step - loss: 0.0634 - accuracy: 0.9817 - val_loss: 0.2829 - val_accuracy: 0.9015\n",
      "Epoch 22/50\n",
      "13/13 [==============================] - 0s 25ms/step - loss: 0.0555 - accuracy: 0.9827 - val_loss: 0.3127 - val_accuracy: 0.8952\n",
      "Epoch 23/50\n",
      "13/13 [==============================] - 0s 23ms/step - loss: 0.0491 - accuracy: 0.9864 - val_loss: 0.3172 - val_accuracy: 0.8915\n",
      "Epoch 24/50\n",
      "13/13 [==============================] - 0s 20ms/step - loss: 0.0438 - accuracy: 0.9853 - val_loss: 0.3309 - val_accuracy: 0.8906\n",
      "Epoch 25/50\n",
      "13/13 [==============================] - 0s 20ms/step - loss: 0.0565 - accuracy: 0.9822 - val_loss: 0.3291 - val_accuracy: 0.8915\n",
      "Epoch 26/50\n",
      "13/13 [==============================] - 0s 23ms/step - loss: 0.0477 - accuracy: 0.9864 - val_loss: 0.3316 - val_accuracy: 0.9043\n",
      "Epoch 27/50\n",
      "13/13 [==============================] - 0s 20ms/step - loss: 0.0372 - accuracy: 0.9869 - val_loss: 0.3227 - val_accuracy: 0.9025\n",
      "Epoch 28/50\n",
      "13/13 [==============================] - 0s 22ms/step - loss: 0.0497 - accuracy: 0.9838 - val_loss: 0.3553 - val_accuracy: 0.8924\n",
      "Epoch 29/50\n",
      "13/13 [==============================] - 0s 20ms/step - loss: 0.0470 - accuracy: 0.9859 - val_loss: 0.3413 - val_accuracy: 0.8997\n",
      "Epoch 30/50\n",
      "13/13 [==============================] - 0s 19ms/step - loss: 0.0471 - accuracy: 0.9838 - val_loss: 0.3519 - val_accuracy: 0.8952\n",
      "Epoch 31/50\n",
      "13/13 [==============================] - 0s 19ms/step - loss: 0.0387 - accuracy: 0.9895 - val_loss: 0.3433 - val_accuracy: 0.8997\n",
      "Epoch 32/50\n",
      "13/13 [==============================] - 0s 18ms/step - loss: 0.0446 - accuracy: 0.9859 - val_loss: 0.3428 - val_accuracy: 0.9070\n",
      "Epoch 33/50\n",
      "13/13 [==============================] - 0s 20ms/step - loss: 0.0386 - accuracy: 0.9901 - val_loss: 0.3446 - val_accuracy: 0.9043\n",
      "Epoch 34/50\n",
      "13/13 [==============================] - 0s 21ms/step - loss: 0.0341 - accuracy: 0.9921 - val_loss: 0.3583 - val_accuracy: 0.8961\n",
      "Epoch 35/50\n",
      "13/13 [==============================] - 0s 19ms/step - loss: 0.0297 - accuracy: 0.9916 - val_loss: 0.3767 - val_accuracy: 0.8961\n",
      "Epoch 36/50\n",
      "13/13 [==============================] - 0s 30ms/step - loss: 0.0351 - accuracy: 0.9880 - val_loss: 0.3565 - val_accuracy: 0.8952\n",
      "Epoch 37/50\n",
      "13/13 [==============================] - 0s 21ms/step - loss: 0.0336 - accuracy: 0.9880 - val_loss: 0.3715 - val_accuracy: 0.8979\n",
      "Epoch 38/50\n",
      "13/13 [==============================] - 0s 17ms/step - loss: 0.0326 - accuracy: 0.9921 - val_loss: 0.3784 - val_accuracy: 0.9006\n",
      "Epoch 39/50\n",
      "13/13 [==============================] - 0s 19ms/step - loss: 0.0299 - accuracy: 0.9916 - val_loss: 0.3809 - val_accuracy: 0.8943\n",
      "Epoch 40/50\n",
      "13/13 [==============================] - 0s 19ms/step - loss: 0.0311 - accuracy: 0.9901 - val_loss: 0.3575 - val_accuracy: 0.9015\n",
      "Epoch 41/50\n",
      "13/13 [==============================] - 0s 21ms/step - loss: 0.0302 - accuracy: 0.9916 - val_loss: 0.3351 - val_accuracy: 0.9134\n",
      "Epoch 42/50\n",
      "13/13 [==============================] - 0s 20ms/step - loss: 0.0250 - accuracy: 0.9916 - val_loss: 0.3672 - val_accuracy: 0.8961\n",
      "Epoch 43/50\n",
      "13/13 [==============================] - 0s 20ms/step - loss: 0.0298 - accuracy: 0.9916 - val_loss: 0.3625 - val_accuracy: 0.9079\n",
      "Epoch 44/50\n",
      "13/13 [==============================] - 0s 24ms/step - loss: 0.0253 - accuracy: 0.9921 - val_loss: 0.3899 - val_accuracy: 0.9006\n",
      "Epoch 45/50\n",
      "13/13 [==============================] - 0s 22ms/step - loss: 0.0327 - accuracy: 0.9916 - val_loss: 0.3957 - val_accuracy: 0.9043\n",
      "Epoch 46/50\n",
      "13/13 [==============================] - 0s 20ms/step - loss: 0.0265 - accuracy: 0.9916 - val_loss: 0.4038 - val_accuracy: 0.9006\n",
      "Epoch 47/50\n",
      "13/13 [==============================] - 0s 22ms/step - loss: 0.0179 - accuracy: 0.9948 - val_loss: 0.3652 - val_accuracy: 0.9107\n",
      "Epoch 48/50\n",
      "13/13 [==============================] - 0s 21ms/step - loss: 0.0260 - accuracy: 0.9921 - val_loss: 0.3951 - val_accuracy: 0.9015\n",
      "Epoch 49/50\n",
      "13/13 [==============================] - 0s 17ms/step - loss: 0.0238 - accuracy: 0.9937 - val_loss: 0.3973 - val_accuracy: 0.9079\n",
      "Epoch 50/50\n",
      "13/13 [==============================] - 0s 20ms/step - loss: 0.0302 - accuracy: 0.9890 - val_loss: 0.4047 - val_accuracy: 0.8933\n",
      "INFO:tensorflow:Assets written to: ameilia_model\\assets\n"
     ]
    }
   ],
   "source": [
    "from keras.initializers import HeNormal\n",
    "from keras.models import Sequential\n",
    "from keras.layers import Dense, Dropout, BatchNormalization\n",
    "import joblib\n",
    "import tensorflow as tf\n",
    "import tensorflowjs as tfjs\n",
    "\n",
    "initializer = HeNormal()\n",
    "model = Sequential(\n",
    "    [\n",
    "        Dropout(0.0069, input_dim=74),\n",
    "        BatchNormalization(),\n",
    "        Dense(160, activation=\"elu\", kernel_initializer=initializer),\n",
    "        Dropout(0.0069),\n",
    "        BatchNormalization(),\n",
    "        Dense(128, activation=\"elu\", kernel_initializer=initializer),\n",
    "        Dropout(0.0069),\n",
    "        BatchNormalization(),\n",
    "        Dense(64, activation=\"elu\", kernel_initializer=initializer),\n",
    "        Dropout(0.0069),\n",
    "        BatchNormalization(),\n",
    "        Dense(32, activation=\"elu\", kernel_initializer=initializer),\n",
    "        Dropout(0.0069),\n",
    "        BatchNormalization(),\n",
    "        Dense(16, activation=\"elu\", kernel_initializer=initializer),\n",
    "        Dense(1, activation=\"sigmoid\"),\n",
    "    ]\n",
    ")\n",
    "model.compile(loss=\"binary_crossentropy\", optimizer=\"adam\", metrics=[\"accuracy\"])\n",
    "\n",
    "history = model.fit(\n",
    "    x_train, y_train, validation_data=(x_test, y_test), epochs=50, batch_size=150\n",
    ")\n",
    "filename = \"Amelia_90_percent_not_gboosted.sav\"\n",
    "# joblib.dump(history, filename)\n",
    "model.save('ameilia_model')\n",
    "tfjs.converters.save_keras_model(model,'C:/vscode_file/amelia_model')\n"
   ]
  },
  {
   "cell_type": "code",
   "execution_count": 11,
   "metadata": {},
   "outputs": [
    {
     "name": "stdout",
     "output_type": "stream",
     "text": [
      "Train Accuracy: 99.95%\n",
      "Test Accuracy: 89.33%\n"
     ]
    }
   ],
   "source": [
    "_, train_acc = model.evaluate(x_train, y_train, verbose=0)\n",
    "_, test_acc = model.evaluate(x_test, y_test, verbose=0)\n",
    "\n",
    "print(\"Train Accuracy: {:.2f}%\".format(train_acc * 100))\n",
    "print(\"Test Accuracy: {:.2f}%\".format(test_acc * 100))"
   ]
  },
  {
   "cell_type": "code",
   "execution_count": null,
   "metadata": {},
   "outputs": [],
   "source": []
  },
  {
   "cell_type": "code",
   "execution_count": 5,
   "metadata": {},
   "outputs": [
    {
     "data": {
      "image/png": "[encoded data removed]",
      "text/plain": [
       "<Figure size 640x480 with 1 Axes>"
      ]
     },
     "metadata": {},
     "output_type": "display_data"
    }
   ],
   "source": [
    "from matplotlib import pyplot\n",
    "pyplot.subplot(211)\n",
    "pyplot.title(\"Loss\")\n",
    "pyplot.plot(history.history[\"loss\"], label=\"Loss\")\n",
    "pyplot.plot(history.history[\"val_loss\"], label=\"Validation Loss\")\n",
    "pyplot.legend()\n",
    "pyplot.show()"
   ]
  },
  {
   "cell_type": "code",
   "execution_count": 6,
   "metadata": {},
   "outputs": [
    {
     "data": {
      "image/png": "[encoded data removed]",
      "text/plain": [
       "<Figure size 640x480 with 1 Axes>"
      ]
     },
     "metadata": {},
     "output_type": "display_data"
    }
   ],
   "source": [
    "pyplot.subplot(212)\n",
    "pyplot.title(\"Accuracy\")\n",
    "pyplot.plot(history.history[\"accuracy\"], label=\"Accuracy\")\n",
    "pyplot.plot(history.history[\"val_accuracy\"], label=\"Validation Accuracy\")\n",
    "pyplot.legend()\n",
    "pyplot.show()"
   ]
  }
 ],
 "metadata": {
  "kernelspec": {
   "display_name": "Python 3.10.4 64-bit",
   "language": "python",
   "name": "python3"
  },
  "language_info": {
   "codemirror_mode": {
    "name": "ipython",
    "version": 3
   },
   "file_extension": ".py",
   "mimetype": "text/x-python",
   "name": "python",
   "nbconvert_exporter": "python",
   "pygments_lexer": "ipython3",
   "version": "3.10.4"
  },
  "orig_nbformat": 4,
  "vscode": {
   "interpreter": {
    "hash": "531336e0e143454b17ed1698b3ebc0069a652c44abea404c70ca7321472feb96"
   }
  }
 },
 "nbformat": 4,
 "nbformat_minor": 2
}
