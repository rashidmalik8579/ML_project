{
 "cells": [
  {
   "cell_type": "code",
   "execution_count": 1,
   "metadata": {},
   "outputs": [],
   "source": [
    "import numpy as np\n",
    "import pandas as pd\n",
    "import matplotlib.pyplot as plt\n",
    "import sklearn\n",
    "import tensorflow as tf"
   ]
  },
  {
   "cell_type": "code",
   "execution_count": 2,
   "metadata": {},
   "outputs": [
    {
     "data": {
      "text/plain": [
       "Unnamed: 0          int64\n",
       "0.assists           int64\n",
       "0.baronKills        int64\n",
       "0.basicPings      float64\n",
       "0.bountyLevel       int64\n",
       "                   ...   \n",
       "5.summonerCode      int64\n",
       "6.summonerCode      int64\n",
       "7.summonerCode      int64\n",
       "8.summonerCode      int64\n",
       "9.summonerCode      int64\n",
       "Length: 1382, dtype: object"
      ]
     },
     "execution_count": 2,
     "metadata": {},
     "output_type": "execute_result"
    }
   ],
   "source": [
    "df = pd.read_csv('match_dataframe.csv')\n",
    "df.dtypes"
   ]
  },
  {
   "cell_type": "code",
   "execution_count": 3,
   "metadata": {},
   "outputs": [
    {
     "data": {
      "text/plain": [
       "Unnamed: 0        float32\n",
       "0.assists         float32\n",
       "0.baronKills      float32\n",
       "0.basicPings      float32\n",
       "0.bountyLevel     float32\n",
       "                   ...   \n",
       "5.summonerCode    float32\n",
       "6.summonerCode    float32\n",
       "7.summonerCode    float32\n",
       "8.summonerCode    float32\n",
       "9.summonerCode    float32\n",
       "Length: 1382, dtype: object"
      ]
     },
     "execution_count": 3,
     "metadata": {},
     "output_type": "execute_result"
    }
   ],
   "source": [
    "df = df.astype(np.float32)\n",
    "df.dtypes"
   ]
  },
  {
   "cell_type": "code",
   "execution_count": 5,
   "metadata": {},
   "outputs": [],
   "source": [
    "# cor = df.corr()\n",
    "# cor['winningTeam']"
   ]
  },
  {
   "cell_type": "markdown",
   "metadata": {},
   "source": [
    "Split Data:"
   ]
  },
  {
   "cell_type": "markdown",
   "metadata": {},
   "source": [
    "Features:"
   ]
  },
  {
   "cell_type": "code",
   "execution_count": 6,
   "metadata": {},
   "outputs": [],
   "source": [
    "import pandas as pd\n",
    "import numpy as np\n",
    "import pymongo\n",
    "import json\n",
    "from pandas import read_csv, read_excel\n",
    "import openpyxl\n",
    "\n",
    "temp_train=read_excel(\"data1excel_train.xls\")\n",
    "temp_test=read_excel(\"data2excel_test.xls\")\n",
    "temp_train.to_csv(\"data1excel_train.csv\")\n",
    "temp_test.to_csv(\"data2excel_test.csv\")\n",
    "train_df=read_csv(\"data1excel_train.csv\")\n",
    "test_df=read_csv(\"data2excel_test.csv\")\n",
    "train_df=train_df.drop(columns=['Unnamed: 0.1','Unnamed: 0'])\n",
    "test_df=test_df.drop(columns=['Unnamed: 0.1','Unnamed: 0'])\n",
    "print(train_df.head())\n",
    "print(test_df.head())\n",
    "train_data = train_df\n",
    "test_data = test_df"
   ]
  },
  {
   "cell_type": "markdown",
   "metadata": {},
   "source": [
    "Labels:"
   ]
  },
  {
   "cell_type": "code",
   "execution_count": 7,
   "metadata": {},
   "outputs": [],
   "source": [
    "train_label = train_data.pop('blue_team_won?')\n",
    "test_label = test_data.pop('blue_team_won?')"
   ]
  },
  {
   "cell_type": "markdown",
   "metadata": {},
   "source": [
    "Normalize data:"
   ]
  },
  {
   "cell_type": "code",
   "execution_count": 8,
   "metadata": {},
   "outputs": [
    {
     "data": {
      "text/html": [
       "<div>\n",
       "<style scoped>\n",
       "    .dataframe tbody tr th:only-of-type {\n",
       "        vertical-align: middle;\n",
       "    }\n",
       "\n",
       "    .dataframe tbody tr th {\n",
       "        vertical-align: top;\n",
       "    }\n",
       "\n",
       "    .dataframe thead th {\n",
       "        text-align: right;\n",
       "    }\n",
       "</style>\n",
       "<table border=\"1\" class=\"dataframe\">\n",
       "  <thead>\n",
       "    <tr style=\"text-align: right;\">\n",
       "      <th></th>\n",
       "      <th>count</th>\n",
       "      <th>mean</th>\n",
       "      <th>std</th>\n",
       "      <th>min</th>\n",
       "      <th>25%</th>\n",
       "      <th>50%</th>\n",
       "      <th>75%</th>\n",
       "      <th>max</th>\n",
       "    </tr>\n",
       "  </thead>\n",
       "  <tbody>\n",
       "    <tr>\n",
       "      <th>Unnamed: 0</th>\n",
       "      <td>1323.0</td>\n",
       "      <td>994.284180</td>\n",
       "      <td>583.257080</td>\n",
       "      <td>1.0</td>\n",
       "      <td>482.5</td>\n",
       "      <td>993.0</td>\n",
       "      <td>1501.5</td>\n",
       "      <td>2003.0</td>\n",
       "    </tr>\n",
       "    <tr>\n",
       "      <th>0.assists</th>\n",
       "      <td>1323.0</td>\n",
       "      <td>5.144369</td>\n",
       "      <td>4.661088</td>\n",
       "      <td>0.0</td>\n",
       "      <td>1.0</td>\n",
       "      <td>4.0</td>\n",
       "      <td>7.0</td>\n",
       "      <td>31.0</td>\n",
       "    </tr>\n",
       "    <tr>\n",
       "      <th>0.baronKills</th>\n",
       "      <td>1323.0</td>\n",
       "      <td>0.029478</td>\n",
       "      <td>0.169207</td>\n",
       "      <td>0.0</td>\n",
       "      <td>0.0</td>\n",
       "      <td>0.0</td>\n",
       "      <td>0.0</td>\n",
       "      <td>1.0</td>\n",
       "    </tr>\n",
       "    <tr>\n",
       "      <th>0.basicPings</th>\n",
       "      <td>1323.0</td>\n",
       "      <td>11.666667</td>\n",
       "      <td>14.351699</td>\n",
       "      <td>0.0</td>\n",
       "      <td>2.0</td>\n",
       "      <td>7.0</td>\n",
       "      <td>16.0</td>\n",
       "      <td>102.0</td>\n",
       "    </tr>\n",
       "    <tr>\n",
       "      <th>0.bountyLevel</th>\n",
       "      <td>1323.0</td>\n",
       "      <td>1.142857</td>\n",
       "      <td>2.277629</td>\n",
       "      <td>0.0</td>\n",
       "      <td>0.0</td>\n",
       "      <td>0.0</td>\n",
       "      <td>1.0</td>\n",
       "      <td>18.0</td>\n",
       "    </tr>\n",
       "  </tbody>\n",
       "</table>\n",
       "</div>"
      ],
      "text/plain": [
       "                count        mean         std  min    25%    50%     75%  \\\n",
       "Unnamed: 0     1323.0  994.284180  583.257080  1.0  482.5  993.0  1501.5   \n",
       "0.assists      1323.0    5.144369    4.661088  0.0    1.0    4.0     7.0   \n",
       "0.baronKills   1323.0    0.029478    0.169207  0.0    0.0    0.0     0.0   \n",
       "0.basicPings   1323.0   11.666667   14.351699  0.0    2.0    7.0    16.0   \n",
       "0.bountyLevel  1323.0    1.142857    2.277629  0.0    0.0    0.0     1.0   \n",
       "\n",
       "                  max  \n",
       "Unnamed: 0     2003.0  \n",
       "0.assists        31.0  \n",
       "0.baronKills      1.0  \n",
       "0.basicPings    102.0  \n",
       "0.bountyLevel    18.0  "
      ]
     },
     "execution_count": 8,
     "metadata": {},
     "output_type": "execute_result"
    }
   ],
   "source": [
    "train_stats = train_data.describe().transpose()\n",
    "train_stats.head()"
   ]
  },
  {
   "cell_type": "code",
   "execution_count": 10,
   "metadata": {},
   "outputs": [],
   "source": [
    "from sklearn.preprocessing import normalize\n",
    "\n",
    "norm_test_data = normalize(test_data)\n",
    "norm_train_data = normalize(train_data)"
   ]
  },
  {
   "cell_type": "markdown",
   "metadata": {},
   "source": [
    "Build Model:"
   ]
  },
  {
   "cell_type": "code",
   "execution_count": 17,
   "metadata": {},
   "outputs": [],
   "source": [
    "from tensorflow import keras\n",
    "from tensorflow.keras import layers\n",
    "\n",
    "model = tf.keras.models.Sequential([\n",
    "    layers.Dense(128, activation = 'relu',input_shape = [len(train_data.keys())]),\n",
    "    layers.Dense(128, activation = 'relu'),\n",
    "    layers.Dense(1,activation='sigmoid')\n",
    "])\n",
    "model.compile(optimizer = 'adam', loss='binary_crossentropy', metrics = ['accuracy'])"
   ]
  },
  {
   "cell_type": "code",
   "execution_count": 18,
   "metadata": {},
   "outputs": [
    {
     "name": "stdout",
     "output_type": "stream",
     "text": [
      "Model: \"sequential\"\n",
      "_________________________________________________________________\n",
      " Layer (type)                Output Shape              Param #   \n",
      "=================================================================\n",
      " dense (Dense)               (None, 128)               176896    \n",
      "                                                                 \n",
      " dense_1 (Dense)             (None, 128)               16512     \n",
      "                                                                 \n",
      " dense_2 (Dense)             (None, 1)                 129       \n",
      "                                                                 \n",
      "=================================================================\n",
      "Total params: 193,537\n",
      "Trainable params: 193,537\n",
      "Non-trainable params: 0\n",
      "_________________________________________________________________\n"
     ]
    }
   ],
   "source": [
    "model.summary()"
   ]
  },
  {
   "cell_type": "markdown",
   "metadata": {},
   "source": [
    "Train Model:"
   ]
  },
  {
   "cell_type": "markdown",
   "metadata": {},
   "source": [
    "If Verbose = 0, use:"
   ]
  },
  {
   "cell_type": "code",
   "execution_count": 19,
   "metadata": {},
   "outputs": [],
   "source": [
    "class PrintDot(keras.callbacks.Callback):\n",
    "    def on_epoch_end(self,epoch,logs):\n",
    "        if epoch % 100 == 0: print('')\n",
    "        print('UwU ',end='')"
   ]
  },
  {
   "cell_type": "code",
   "execution_count": 20,
   "metadata": {},
   "outputs": [
    {
     "name": "stdout",
     "output_type": "stream",
     "text": [
      "Epoch 1/50\n",
      "25/34 [=====================>........] - ETA: 0s - loss: 2208.2500 - accuracy: 0.6438  \n",
      "34/34 [==============================] - 1s 8ms/step - loss: 1736.1250 - accuracy: 0.7042 - val_loss: 422.9293 - val_accuracy: 0.8566\n",
      "Epoch 2/50\n",
      "34/34 [==============================] - 0s 3ms/step - loss: 290.4471 - accuracy: 0.8837 - val_loss: 343.4471 - val_accuracy: 0.8792\n",
      "Epoch 3/50\n",
      "34/34 [==============================] - 0s 3ms/step - loss: 306.7695 - accuracy: 0.8705 - val_loss: 531.4819 - val_accuracy: 0.7962\n",
      "Epoch 4/50\n",
      "34/34 [==============================] - 0s 3ms/step - loss: 210.2312 - accuracy: 0.8894 - val_loss: 173.7379 - val_accuracy: 0.8830\n",
      "Epoch 5/50\n",
      "34/34 [==============================] - 0s 3ms/step - loss: 126.6381 - accuracy: 0.9282 - val_loss: 137.0768 - val_accuracy: 0.9019\n",
      "Epoch 6/50\n",
      "34/34 [==============================] - 0s 4ms/step - loss: 63.0983 - accuracy: 0.9442 - val_loss: 129.6760 - val_accuracy: 0.9208\n",
      "Epoch 7/50\n",
      "34/34 [==============================] - 0s 3ms/step - loss: 52.7727 - accuracy: 0.9442 - val_loss: 151.6071 - val_accuracy: 0.8906\n",
      "Epoch 8/50\n",
      "34/34 [==============================] - 0s 4ms/step - loss: 29.2598 - accuracy: 0.9584 - val_loss: 137.8681 - val_accuracy: 0.9170\n",
      "Epoch 9/50\n",
      "34/34 [==============================] - 0s 4ms/step - loss: 23.1679 - accuracy: 0.9745 - val_loss: 150.5722 - val_accuracy: 0.9057\n",
      "Epoch 10/50\n",
      "34/34 [==============================] - 0s 3ms/step - loss: 22.6817 - accuracy: 0.9679 - val_loss: 379.6625 - val_accuracy: 0.8264\n",
      "Epoch 11/50\n",
      "34/34 [==============================] - 0s 3ms/step - loss: 226.2809 - accuracy: 0.8856 - val_loss: 230.6342 - val_accuracy: 0.8943\n",
      "Epoch 12/50\n",
      "34/34 [==============================] - 0s 3ms/step - loss: 64.2427 - accuracy: 0.9471 - val_loss: 329.1941 - val_accuracy: 0.8642\n",
      "Epoch 13/50\n",
      "34/34 [==============================] - 0s 3ms/step - loss: 72.5537 - accuracy: 0.9423 - val_loss: 215.0288 - val_accuracy: 0.9057\n",
      "Epoch 14/50\n",
      "34/34 [==============================] - 0s 3ms/step - loss: 29.7321 - accuracy: 0.9679 - val_loss: 134.9705 - val_accuracy: 0.9170\n",
      "Epoch 15/50\n",
      "34/34 [==============================] - 0s 3ms/step - loss: 11.8552 - accuracy: 0.9792 - val_loss: 129.9065 - val_accuracy: 0.9208\n",
      "Epoch 16/50\n",
      "34/34 [==============================] - 0s 3ms/step - loss: 7.9400 - accuracy: 0.9868 - val_loss: 178.6425 - val_accuracy: 0.8792\n",
      "Epoch 17/50\n",
      "34/34 [==============================] - 0s 3ms/step - loss: 131.2946 - accuracy: 0.9168 - val_loss: 255.9768 - val_accuracy: 0.8943\n",
      "Epoch 18/50\n",
      "34/34 [==============================] - 0s 4ms/step - loss: 33.0846 - accuracy: 0.9660 - val_loss: 131.6848 - val_accuracy: 0.9132\n",
      "Epoch 19/50\n",
      "34/34 [==============================] - 0s 4ms/step - loss: 12.4481 - accuracy: 0.9830 - val_loss: 120.5584 - val_accuracy: 0.9057\n",
      "Epoch 20/50\n",
      "34/34 [==============================] - 0s 3ms/step - loss: 13.6061 - accuracy: 0.9802 - val_loss: 171.0538 - val_accuracy: 0.9057\n",
      "Epoch 21/50\n",
      "34/34 [==============================] - 0s 3ms/step - loss: 23.0692 - accuracy: 0.9716 - val_loss: 164.3763 - val_accuracy: 0.9170\n",
      "Epoch 22/50\n",
      "34/34 [==============================] - 0s 3ms/step - loss: 14.1994 - accuracy: 0.9764 - val_loss: 141.6632 - val_accuracy: 0.9208\n",
      "Epoch 23/50\n",
      "34/34 [==============================] - 0s 3ms/step - loss: 19.9631 - accuracy: 0.9754 - val_loss: 164.1330 - val_accuracy: 0.9170\n",
      "Epoch 24/50\n",
      "34/34 [==============================] - 0s 3ms/step - loss: 5.3630 - accuracy: 0.9905 - val_loss: 146.1060 - val_accuracy: 0.9170\n",
      "Epoch 25/50\n",
      "34/34 [==============================] - 0s 4ms/step - loss: 0.5855 - accuracy: 0.9981 - val_loss: 127.9972 - val_accuracy: 0.9132\n",
      "Epoch 26/50\n",
      "34/34 [==============================] - 0s 4ms/step - loss: 3.9784 - accuracy: 0.9905 - val_loss: 182.3512 - val_accuracy: 0.8943\n",
      "Epoch 27/50\n",
      "34/34 [==============================] - 0s 4ms/step - loss: 94.3193 - accuracy: 0.9310 - val_loss: 165.6891 - val_accuracy: 0.9208\n",
      "Epoch 28/50\n",
      "34/34 [==============================] - 0s 3ms/step - loss: 50.0652 - accuracy: 0.9584 - val_loss: 124.1833 - val_accuracy: 0.9283\n",
      "Epoch 29/50\n",
      "34/34 [==============================] - 0s 4ms/step - loss: 24.3100 - accuracy: 0.9698 - val_loss: 106.4776 - val_accuracy: 0.9208\n",
      "Epoch 30/50\n",
      "34/34 [==============================] - 0s 3ms/step - loss: 28.7415 - accuracy: 0.9716 - val_loss: 143.5913 - val_accuracy: 0.9245\n",
      "Epoch 31/50\n",
      "34/34 [==============================] - 0s 4ms/step - loss: 20.5849 - accuracy: 0.9698 - val_loss: 169.9582 - val_accuracy: 0.9132\n",
      "Epoch 32/50\n",
      "34/34 [==============================] - 0s 3ms/step - loss: 15.0846 - accuracy: 0.9783 - val_loss: 148.7211 - val_accuracy: 0.9057\n",
      "Epoch 33/50\n",
      "34/34 [==============================] - 0s 3ms/step - loss: 5.9573 - accuracy: 0.9877 - val_loss: 126.6795 - val_accuracy: 0.9321\n",
      "Epoch 34/50\n",
      "34/34 [==============================] - 0s 3ms/step - loss: 1.2705 - accuracy: 0.9934 - val_loss: 106.0542 - val_accuracy: 0.9208\n",
      "Epoch 35/50\n",
      "34/34 [==============================] - 0s 3ms/step - loss: 0.9279 - accuracy: 0.9972 - val_loss: 133.5643 - val_accuracy: 0.9245\n",
      "Epoch 36/50\n",
      "34/34 [==============================] - 0s 3ms/step - loss: 1.0040 - accuracy: 0.9934 - val_loss: 148.0917 - val_accuracy: 0.9170\n",
      "Epoch 37/50\n",
      "34/34 [==============================] - 0s 3ms/step - loss: 7.9399 - accuracy: 0.9792 - val_loss: 103.1380 - val_accuracy: 0.9170\n",
      "Epoch 38/50\n",
      "34/34 [==============================] - 0s 3ms/step - loss: 6.6953 - accuracy: 0.9868 - val_loss: 101.8221 - val_accuracy: 0.9283\n",
      "Epoch 39/50\n",
      "34/34 [==============================] - 0s 3ms/step - loss: 7.7483 - accuracy: 0.9887 - val_loss: 95.1868 - val_accuracy: 0.9396\n",
      "Epoch 40/50\n",
      "34/34 [==============================] - 0s 3ms/step - loss: 0.0252 - accuracy: 0.9981 - val_loss: 94.1504 - val_accuracy: 0.9358\n",
      "Epoch 41/50\n",
      "34/34 [==============================] - 0s 3ms/step - loss: 9.6889e-10 - accuracy: 1.0000 - val_loss: 94.1946 - val_accuracy: 0.9358\n",
      "Epoch 42/50\n",
      "34/34 [==============================] - 0s 4ms/step - loss: 2.0636e-18 - accuracy: 1.0000 - val_loss: 94.1955 - val_accuracy: 0.9358\n",
      "Epoch 43/50\n",
      "34/34 [==============================] - 0s 4ms/step - loss: 1.6651e-18 - accuracy: 1.0000 - val_loss: 94.1955 - val_accuracy: 0.9358\n",
      "Epoch 44/50\n",
      "34/34 [==============================] - 0s 4ms/step - loss: 1.6647e-18 - accuracy: 1.0000 - val_loss: 94.1955 - val_accuracy: 0.9358\n",
      "Epoch 45/50\n",
      "34/34 [==============================] - 0s 4ms/step - loss: 1.6646e-18 - accuracy: 1.0000 - val_loss: 94.1955 - val_accuracy: 0.9358\n",
      "Epoch 46/50\n",
      "34/34 [==============================] - 0s 3ms/step - loss: 1.6646e-18 - accuracy: 1.0000 - val_loss: 94.1955 - val_accuracy: 0.9358\n",
      "Epoch 47/50\n",
      "34/34 [==============================] - 0s 3ms/step - loss: 1.6646e-18 - accuracy: 1.0000 - val_loss: 94.1955 - val_accuracy: 0.9358\n",
      "Epoch 48/50\n",
      "34/34 [==============================] - 0s 3ms/step - loss: 1.6646e-18 - accuracy: 1.0000 - val_loss: 94.1955 - val_accuracy: 0.9358\n",
      "Epoch 49/50\n",
      "34/34 [==============================] - 0s 3ms/step - loss: 1.6646e-18 - accuracy: 1.0000 - val_loss: 94.1955 - val_accuracy: 0.9358\n",
      "Epoch 50/50\n",
      "34/34 [==============================] - 0s 3ms/step - loss: 1.6647e-18 - accuracy: 1.0000 - val_loss: 94.1955 - val_accuracy: 0.9358\n"
     ]
    }
   ],
   "source": [
    "res = model.fit(\n",
    "    train_data, train_label,\n",
    "    epochs = 50,\n",
    "    validation_split = 0.2,\n",
    "    callbacks = [PrintDot()]\n",
    ")"
   ]
  },
  {
   "cell_type": "code",
   "execution_count": 21,
   "metadata": {},
   "outputs": [
    {
     "data": {
      "text/html": [
       "<div>\n",
       "<style scoped>\n",
       "    .dataframe tbody tr th:only-of-type {\n",
       "        vertical-align: middle;\n",
       "    }\n",
       "\n",
       "    .dataframe tbody tr th {\n",
       "        vertical-align: top;\n",
       "    }\n",
       "\n",
       "    .dataframe thead th {\n",
       "        text-align: right;\n",
       "    }\n",
       "</style>\n",
       "<table border=\"1\" class=\"dataframe\">\n",
       "  <thead>\n",
       "    <tr style=\"text-align: right;\">\n",
       "      <th></th>\n",
       "      <th>loss</th>\n",
       "      <th>accuracy</th>\n",
       "      <th>val_loss</th>\n",
       "      <th>val_accuracy</th>\n",
       "      <th>epoch</th>\n",
       "    </tr>\n",
       "  </thead>\n",
       "  <tbody>\n",
       "    <tr>\n",
       "      <th>45</th>\n",
       "      <td>1.664594e-18</td>\n",
       "      <td>1.0</td>\n",
       "      <td>94.195541</td>\n",
       "      <td>0.935849</td>\n",
       "      <td>45</td>\n",
       "    </tr>\n",
       "    <tr>\n",
       "      <th>46</th>\n",
       "      <td>1.664594e-18</td>\n",
       "      <td>1.0</td>\n",
       "      <td>94.195541</td>\n",
       "      <td>0.935849</td>\n",
       "      <td>46</td>\n",
       "    </tr>\n",
       "    <tr>\n",
       "      <th>47</th>\n",
       "      <td>1.664594e-18</td>\n",
       "      <td>1.0</td>\n",
       "      <td>94.195541</td>\n",
       "      <td>0.935849</td>\n",
       "      <td>47</td>\n",
       "    </tr>\n",
       "    <tr>\n",
       "      <th>48</th>\n",
       "      <td>1.664594e-18</td>\n",
       "      <td>1.0</td>\n",
       "      <td>94.195541</td>\n",
       "      <td>0.935849</td>\n",
       "      <td>48</td>\n",
       "    </tr>\n",
       "    <tr>\n",
       "      <th>49</th>\n",
       "      <td>1.664706e-18</td>\n",
       "      <td>1.0</td>\n",
       "      <td>94.195541</td>\n",
       "      <td>0.935849</td>\n",
       "      <td>49</td>\n",
       "    </tr>\n",
       "  </tbody>\n",
       "</table>\n",
       "</div>"
      ],
      "text/plain": [
       "            loss  accuracy   val_loss  val_accuracy  epoch\n",
       "45  1.664594e-18       1.0  94.195541      0.935849     45\n",
       "46  1.664594e-18       1.0  94.195541      0.935849     46\n",
       "47  1.664594e-18       1.0  94.195541      0.935849     47\n",
       "48  1.664594e-18       1.0  94.195541      0.935849     48\n",
       "49  1.664706e-18       1.0  94.195541      0.935849     49"
      ]
     },
     "execution_count": 21,
     "metadata": {},
     "output_type": "execute_result"
    }
   ],
   "source": [
    "hist = pd.DataFrame(res.history)\n",
    "hist['epoch'] = res.epoch\n",
    "hist.tail()"
   ]
  },
  {
   "cell_type": "code",
   "execution_count": 22,
   "metadata": {},
   "outputs": [
    {
     "name": "stdout",
     "output_type": "stream",
     "text": [
      "22/22 [==============================] - 0s 2ms/step - loss: 99.0824 - accuracy: 0.9457\n",
      "Model accuracy:  0.9456681609153748\n"
     ]
    }
   ],
   "source": [
    "ev = model.evaluate(test_data,test_label)\n",
    "print('Model accuracy: ', ev[1])"
   ]
  },
  {
   "cell_type": "markdown",
   "metadata": {},
   "source": [
    "Model fitting:"
   ]
  },
  {
   "cell_type": "markdown",
   "metadata": {},
   "source": []
  }
 ],
 "metadata": {
  "kernelspec": {
   "display_name": "Python 3.10.4 64-bit",
   "language": "python",
   "name": "python3"
  },
  "language_info": {
   "codemirror_mode": {
    "name": "ipython",
    "version": 3
   },
   "file_extension": ".py",
   "mimetype": "text/x-python",
   "name": "python",
   "nbconvert_exporter": "python",
   "pygments_lexer": "ipython3",
   "version": "3.10.4"
  },
  "orig_nbformat": 4,
  "vscode": {
   "interpreter": {
    "hash": "531336e0e143454b17ed1698b3ebc0069a652c44abea404c70ca7321472feb96"
   }
  }
 },
 "nbformat": 4,
 "nbformat_minor": 2
}
