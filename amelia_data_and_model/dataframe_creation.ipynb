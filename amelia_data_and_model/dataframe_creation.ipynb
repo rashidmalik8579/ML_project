{
 "cells": [
  {
   "cell_type": "code",
   "execution_count": null,
   "metadata": {},
   "outputs": [],
   "source": [
    "from pprint import PrettyPrinter\n",
    "import numpy as np\n",
    "import pandas as pd\n",
    "from pymongo import MongoClient\n",
    "import json"
   ]
  },
  {
   "cell_type": "code",
   "execution_count": null,
   "metadata": {},
   "outputs": [],
   "source": [
    "# Connect to Mongodb\n",
    "client = MongoClient('mongodb://localhost:27017')"
   ]
  },
  {
   "cell_type": "code",
   "execution_count": null,
   "metadata": {},
   "outputs": [],
   "source": [
    "db = client['riotGamesOlddb']\n",
    "match_collection = db['matchdatas']"
   ]
  },
  {
   "cell_type": "code",
   "execution_count": null,
   "metadata": {},
   "outputs": [],
   "source": [
    "to_get = {'matchSummaryData.info.participants':1,\"_id\":0,\"title\":1}\n",
    "match_cursor = match_collection.find({\"$and\":[{'matchSummaryData.info.gameMode':\"CLASSIC\"},{'matchSummaryData.metadata.participants':{'$size':10}}]},to_get)\n"
   ]
  },
  {
   "cell_type": "code",
   "execution_count": null,
   "metadata": {},
   "outputs": [],
   "source": [
    "participant_summary = []\n",
    "\n",
    "for match in match_cursor:\n",
    "    participant_summary.append(match['matchSummaryData']['info']['participants'])\n",
    "print(len(participant_summary))\n",
    "participant_summary[0]"
   ]
  },
  {
   "cell_type": "markdown",
   "metadata": {},
   "source": [
    "Dataframe creation:"
   ]
  },
  {
   "cell_type": "code",
   "execution_count": null,
   "metadata": {},
   "outputs": [],
   "source": [
    "p_df = pd.json_normalize(json.loads((pd.DataFrame(participant_summary)).to_json(orient=\"records\")))\n",
    "\n",
    "p_df.head(2)"
   ]
  },
  {
   "cell_type": "code",
   "execution_count": null,
   "metadata": {},
   "outputs": [],
   "source": [
    "name = []\n",
    "\n",
    "for column in p_df.filter(regex='(summonerName)$', axis=\"columns\"):\n",
    "    this_column_values = p_df.filter(regex='(summonerName)$', axis=\"columns\")[column].tolist()\n",
    "    name += this_column_values\n",
    "\n",
    "champ_id = []\n",
    "\n",
    "for column in p_df.filter(regex='(championId)$', axis=\"columns\"):\n",
    "    this_column_values = p_df.filter(regex='(championId)$', axis=\"columns\")[column].tolist()\n",
    "    champ_id += this_column_values"
   ]
  },
  {
   "cell_type": "code",
   "execution_count": null,
   "metadata": {},
   "outputs": [],
   "source": [
    "for i in range(len(name)):\n",
    "    if name[i] =='':\n",
    "        print(str(i) + ' is empty')\n",
    "\n",
    "for i in range(len(champ_id)):\n",
    "    if champ_id[i] =='':\n",
    "        print(str(i) + ' is empty')"
   ]
  },
  {
   "cell_type": "code",
   "execution_count": null,
   "metadata": {},
   "outputs": [],
   "source": [
    "for x in range(len(name)):\n",
    "    print(name[x],champ_id[x])"
   ]
  },
  {
   "cell_type": "code",
   "execution_count": null,
   "metadata": {},
   "outputs": [],
   "source": [
    "client = MongoClient('mongodb://localhost:27017')\n",
    "db = client['riotGamesOlddb']\n",
    "account_collection = db['accountdatas']\n",
    "\n",
    "championMasteryPoints = []\n",
    "for x in range(len(name)):\n",
    "    docs = account_collection.aggregate([{\"$match\": {\"title\": name[x], \"champData\": { \"$elemMatch\": { \"$and\": [{ \"championId\": champ_id[x] }] } } } }, { \"$project\": {\"title\":1, \"champData\": { \"$filter\": { \"input\": \"$champData\", \"as\": \"champData\", \"cond\": { \"$and\": [{ \"$eq\": [\"$$champData.championId\", champ_id[x]] }] } } } } }])\n",
    "    for doc in docs:\n",
    "        championMasteryPoints.append([doc['champData'][0]['championPoints']])"
   ]
  },
  {
   "cell_type": "markdown",
   "metadata": {},
   "source": [
    "Data Processing - Remove unnecessary columns:"
   ]
  },
  {
   "cell_type": "code",
   "execution_count": null,
   "metadata": {},
   "outputs": [],
   "source": [
    "to_remove = ['championName', 'championTransform', 'eligibleForProgression', 'gameEndedInEarlySurrender', 'gameEndedInSurrender', 'individualPosition', 'lane', 'nexusKills', 'nexusLost', 'nexusTakedowns', 'participantId', 'profileIcon', 'puuid', 'riotIdName', 'riotIdTagline', 'role', 'summonerId', 'teamEarlySurrendered', 'teamId', 'teamPosition'\n",
    ", 'unrealKills', 'challenges.blastConeOppositeOpponentCount', 'challenges.completeSupportQuestInTime', 'challenges.controlWardTimeCoverageInRiverOrEnemyHalf', 'challenges.dancedWithRiftHerald', 'challenges.dodgeSkillShotsSmallWindow', 'challenges.doubleAces', 'challenges.elderDragonKillsWithOpposingSoul', 'challenges.epicMonsterKillsNearEnemyJungler', 'challenges.epicMonsterKillsWithin30SecondsOfSpawn', 'challenges.epicMonsterStolenWithoutSmite', 'challenges.firstTurretKilledTime', 'challenges.flawlessAces', 'challenges.hadOpenNexus', 'challenges.immobilizeAndKillWithAlly', 'challenges.initialBuffCount', 'challenges.initialCrabCount', 'challenges.junglerTakedownsNearDamagedEpicMonster', 'challenges.killAfterHiddenWithAlly', 'challenges.killedChampTookFullTeamDamageSurvived', 'challenges.killsNearEnemyTurret', 'challenges.killsOnRecentlyHealedByAramPack', 'challenges.killsUnderOwnTurret', 'challenges.killsWithHelpFromEpicMonster', 'challenges.knockEnemyIntoTeamAndKill', 'challenges.lostAnInhibitor', 'challenges.moreEnemyJungleThanOpponent', 'challenges.multiKillOneSpell', 'challenges.multiTurretRiftHeraldCount', 'challenges.multikillsAfterAggressiveFlash', 'challenges.outerTurretExecutesBefore10Minutes', 'challenges.outnumberedKills', 'challenges.outnumberedNexusKill', 'challenges.perfectDragonSoulsTaken', 'challenges.perfectGame', 'challenges.pickKillWithAlly', 'challenges.playedChampSelectPosition', 'challenges.poroExplosions', 'challenges.quickCleanse', 'challenges.quickFirstTurret', 'challenges.quickSoloKills', 'challenges.saveAllyFromDeath', 'challenges.scuttleCrabKills', 'challenges.snowballsHit', 'challenges.soloBaronKills', 'challenges.survivedSingleDigitHpCount', 'challenges.survivedThreeImmobilizesInFight', 'challenges.takedownOnFirstTurret', 'challenges.takedownsAfterGainingLevelAdvantage', 'challenges.takedownsFirstXMinutes', 'challenges.takedownsInAlcove', 'challenges.takedownsInEnemyFountain', 'challenges.threeWardsOneSweeperCount', 'challenges.tookLargeDamageSurvived', 'challenges.turretsTakenWithRiftHerald', 'challenges.twentyMinionsIn3SecondsCount', 'challenges.unseenRecalls', 'challenges.wardsGuarded', 'perks.statPerks.defense', 'perks.statPerks.flex', 'perks.statPerks.offense', 'perks.styles', 'challenges.earliestDragonTakedown', 'challenges.highestCrowdControlScore', 'challenges.junglerKillsEarlyJungle', 'challenges.highestChampionDamage', 'challenges.fasterSupportQuestCompletion', 'challenges.earliestBaron', 'challenges.highestWardKills']\n"
   ]
  },
  {
   "cell_type": "code",
   "execution_count": null,
   "metadata": {},
   "outputs": [],
   "source": [
    "remove_cols = []\n",
    "\n",
    "for e in to_remove:\n",
    "    for i in range(10):\n",
    "        remove_cols.append(str(i)+'.'+e)\n",
    "len(remove_cols)"
   ]
  },
  {
   "cell_type": "code",
   "execution_count": null,
   "metadata": {},
   "outputs": [],
   "source": [
    "p_df = p_df.drop(remove_cols,axis=1)"
   ]
  },
  {
   "cell_type": "markdown",
   "metadata": {},
   "source": [
    "Data Processing - Remove individual player win and add team win"
   ]
  },
  {
   "cell_type": "code",
   "execution_count": null,
   "metadata": {},
   "outputs": [],
   "source": [
    "p_df['winningTeam'] = np.where(p_df['0.win'] == 1, 1, 2)"
   ]
  },
  {
   "cell_type": "code",
   "execution_count": null,
   "metadata": {},
   "outputs": [],
   "source": [
    "remove_wins = []\n",
    "\n",
    "for i in range(10):\n",
    "    remove_wins.append(str(i)+'.win')\n",
    "p_df = p_df.drop(remove_wins,axis=1)"
   ]
  },
  {
   "cell_type": "markdown",
   "metadata": {},
   "source": [
    "Data Processing - Replace NA with 0:"
   ]
  },
  {
   "cell_type": "code",
   "execution_count": null,
   "metadata": {},
   "outputs": [],
   "source": [
    "p_df = p_df.replace(np.nan, 0)"
   ]
  },
  {
   "cell_type": "markdown",
   "metadata": {},
   "source": [
    "Data Processing - Replace bool with int:\n"
   ]
  },
  {
   "cell_type": "code",
   "execution_count": null,
   "metadata": {},
   "outputs": [],
   "source": [
    "bool_cols = p_df.select_dtypes(include=['bool']).columns\n",
    "\n",
    "for col in bool_cols:\n",
    "    p_df[col]=p_df[col].astype(int)\n"
   ]
  },
  {
   "cell_type": "code",
   "execution_count": null,
   "metadata": {},
   "outputs": [],
   "source": [
    "p_df.head(5)"
   ]
  },
  {
   "cell_type": "markdown",
   "metadata": {},
   "source": [
    "Data Processing: Create Summoner codes"
   ]
  },
  {
   "cell_type": "code",
   "execution_count": null,
   "metadata": {},
   "outputs": [],
   "source": [
    "for i in range(10):\n",
    "    p_df[ str(i) +'.summonerCode'] = p_df[ str(i) +'.summonerName'].astype(\"category\").cat.codes\n"
   ]
  },
  {
   "cell_type": "code",
   "execution_count": null,
   "metadata": {},
   "outputs": [],
   "source": [
    "corr = p_df.corr()"
   ]
  },
  {
   "cell_type": "code",
   "execution_count": null,
   "metadata": {},
   "outputs": [],
   "source": [
    "corr['winningTeam']"
   ]
  }
 ],
 "metadata": {
  "kernelspec": {
   "display_name": "Python 3.10.4 64-bit",
   "language": "python",
   "name": "python3"
  },
  "language_info": {
   "codemirror_mode": {
    "name": "ipython",
    "version": 3
   },
   "file_extension": ".py",
   "mimetype": "text/x-python",
   "name": "python",
   "nbconvert_exporter": "python",
   "pygments_lexer": "ipython3",
   "version": "3.10.4"
  },
  "vscode": {
   "interpreter": {
    "hash": "531336e0e143454b17ed1698b3ebc0069a652c44abea404c70ca7321472feb96"
   }
  }
 },
 "nbformat": 4,
 "nbformat_minor": 2
}
